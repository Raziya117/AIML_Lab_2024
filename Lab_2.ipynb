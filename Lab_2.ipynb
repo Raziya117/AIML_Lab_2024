{
  "nbformat": 4,
  "nbformat_minor": 0,
  "metadata": {
    "colab": {
      "provenance": [],
      "authorship_tag": "ABX9TyMQWVwDROe9atA58aKrSG1G"
    },
    "kernelspec": {
      "name": "python3",
      "display_name": "Python 3"
    },
    "language_info": {
      "name": "python"
    }
  },
  "cells": [
    {
      "cell_type": "markdown",
      "source": [
        "## Lab-02:Implement AI search"
      ],
      "metadata": {
        "id": "yTDvEfc0EKYa"
      }
    },
    {
      "cell_type": "markdown",
      "source": [
        "## Part-01:Implement Breadth First search Algorithm\n",
        "![bfs1.png](attachment:bfs1.png)"
      ],
      "metadata": {
        "id": "YEGxfJ5HFY0X"
      }
    },
    {
      "cell_type": "code",
      "source": [
        "import numpy as np\n",
        "from queue import Queue\n",
        "graph={0:[1,2,3],1:[0,2],2:[0,3,5],3:[0,2,4],4:[3,5,7],5:[4,6,7],6:[5,7],7:[4,5,6],8:[]}\n",
        "print(\"The adjacency List representing the graph is:\")\n",
        "print(graph)\n"
      ],
      "metadata": {
        "colab": {
          "base_uri": "https://localhost:8080/"
        },
        "id": "gvpjwZyRGJVG",
        "outputId": "77566c08-adfa-446c-bed4-1751ec66c5d1"
      },
      "execution_count": null,
      "outputs": [
        {
          "output_type": "stream",
          "name": "stdout",
          "text": [
            "The adjacency List representing the graph is:\n",
            "{0: [1, 2, 3], 1: [0, 2], 2: [0, 3, 5], 3: [0, 2, 4], 4: [3, 5, 7], 5: [4, 6, 7], 6: [5, 7], 7: [4, 5, 6], 8: []}\n"
          ]
        }
      ]
    },
    {
      "cell_type": "code",
      "source": [
        "def bfs(graph,source):\n",
        "      Q=Queue()\n",
        "      visited_vertices=set()\n",
        "      Q.put(source)\n",
        "      visited_vertices.update({source})\n",
        "      while not Q.empty():\n",
        "            vertex=Q.get()\n",
        "            print(vertex,end=\"->\")\n",
        "            for u in graph[vertex]:\n",
        "                          if u not in visited_vertices:\n",
        "                                          Q.put(u)\n",
        "                                          visited_vertices.update({u})\n",
        "print(\"BFS traversal of graph with source 0 is:\")\n",
        "bfs(graph,0)\n"
      ],
      "metadata": {
        "colab": {
          "base_uri": "https://localhost:8080/"
        },
        "id": "mPhyrMkSGohs",
        "outputId": "685ff00e-c84a-4b48-bdbe-d5ff86bf362d"
      },
      "execution_count": null,
      "outputs": [
        {
          "output_type": "stream",
          "name": "stdout",
          "text": [
            "BFS traversal of graph with source 0 is:\n",
            "0->1->2->3->5->4->6->7->"
          ]
        }
      ]
    },
    {
      "cell_type": "code",
      "source": [
        "graph1={\n",
        "           'A':['c','D','G'],\n",
        "           'B':['A'],\n",
        "           'C':['A','D','F'],\n",
        "           'D':['A','E','G','H'],\n",
        "           'E':['D','F','H'],\n",
        "           'F':['C','E'],\n",
        "           'G':['A','D','H']}\n",
        "print(\"The adjacency List representing the graph is:\")\n",
        "print(graph1)\n"
      ],
      "metadata": {
        "colab": {
          "base_uri": "https://localhost:8080/"
        },
        "id": "mFEQtBDeHK4N",
        "outputId": "8166b970-7a67-4a4b-ca2c-48701e8c556d"
      },
      "execution_count": null,
      "outputs": [
        {
          "output_type": "stream",
          "name": "stdout",
          "text": [
            "The adjacency List representing the graph is:\n",
            "{'A': ['c', 'D', 'G'], 'B': ['A'], 'C': ['A', 'D', 'F'], 'D': ['A', 'E', 'G', 'H'], 'E': ['D', 'F', 'H'], 'F': ['C', 'E'], 'G': ['A', 'D', 'H']}\n"
          ]
        }
      ]
    },
    {
      "cell_type": "code",
      "source": [
        "def dfs(graph,node,visited):\n",
        "      if node not in visited:\n",
        "             visited.append(node)\n",
        "             for k in graph[node]:\n",
        "                   dfs(graph,k,visited)\n",
        "      return visited\n",
        "visited=dfs(graph,'B',[])\n",
        "print(visited)"
      ],
      "metadata": {
        "id": "1gJRG_BfH_Mt"
      },
      "execution_count": null,
      "outputs": []
    },
    {
      "cell_type": "code",
      "source": [],
      "metadata": {
        "id": "9D2CNAjLH_Jv"
      },
      "execution_count": null,
      "outputs": []
    }
  ]
}