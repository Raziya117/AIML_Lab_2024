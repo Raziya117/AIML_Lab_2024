{
 "cells": [
  {
   "cell_type": "markdown",
   "id": "cb55003d-3333-43c0-8108-0cb70add9b44",
   "metadata": {},
   "source": [
    "## Lab-02:Implement AI search"
   ]
  },
  {
   "cell_type": "markdown",
   "id": "eb048906-8ec3-489e-87ba-c3439aab4929",
   "metadata": {},
   "source": [
    "## Part-01:Implement Breadth First search Algorithm\n",
    "![bfs1.png](attachment:bfs1.png)"
   ]
  },
  {
   "cell_type": "code",
   "execution_count": 2,
   "id": "c8c1168e-8729-4e33-8dd3-1274c2cc8a70",
   "metadata": {},
   "outputs": [
    {
     "name": "stdout",
     "output_type": "stream",
     "text": [
      "The adjacency List representing the graph is:\n",
      "{0: [1, 2, 3], 1: [0, 2], 2: [0, 3, 5], 3: [0, 2, 4], 4: [3, 5, 7], 5: [4, 6, 7], 6: [5, 7], 7: [4, 5, 6], 8: []}\n"
     ]
    }
   ],
   "source": [
    "import numpy as np\n",
    "\n",
    "from queue import Queue\n",
    "graph={0:[1,2,3],1:[0,2],2:[0,3,5],3:[0,2,4],4:[3,5,7],5:[4,6,7],6:[5,7],7:[4,5,6],8:[]}\n",
    "print(\"The adjacency List representing the graph is:\")\n",
    "print(graph)\n"
   ]
  },
  {
   "cell_type": "code",
   "execution_count": 6,
   "id": "50355217-3198-4374-beba-3051f74f0e54",
   "metadata": {},
   "outputs": [
    {
     "name": "stdout",
     "output_type": "stream",
     "text": [
      "BFS traversal of graph with source 0 is:\n",
      "0->1->2->3->5->4->6->7->"
     ]
    }
   ],
   "source": [
    "def bfs(graph,source):\n",
    "    Q=Queue()\n",
    "    visited_vertices=set()\n",
    "    Q.put(source)\n",
    "    visited_vertices.update({source})\n",
    "    while not Q.empty():\n",
    "        vertex=Q.get()\n",
    "        print(vertex,end=\"->\")\n",
    "        for u in graph[vertex]:\n",
    "            if u not in visited_vertices:\n",
    "                Q.put(u)\n",
    "                visited_vertices.update({u})\n",
    "print(\"BFS traversal of graph with source 0 is:\")\n",
    "bfs(graph,0)\n"
   ]
  },
  {
   "cell_type": "markdown",
   "id": "84f4c699-c549-4994-b70e-450b0bcb28f7",
   "metadata": {},
   "source": [
    "## Part-02:Implement Depth First Search Algorithm\n",
    "!["
   ]
  },
  {
   "cell_type": "code",
   "execution_count": 29,
   "id": "9eb2df7a-6db1-4771-93e8-ec8bc722bed8",
   "metadata": {},
   "outputs": [
    {
     "name": "stdout",
     "output_type": "stream",
     "text": [
      "The adjacency List representing the graph is:\n",
      "{'A': ['c', 'D', 'G'], 'B': ['A'], 'C': ['A', 'D', 'F'], 'D': ['A', 'E', 'G', 'H'], 'E': ['D', 'F', 'H'], 'F': ['C', 'E'], 'G': ['A', 'D', 'H']}\n"
     ]
    }
   ],
   "source": [
    " graph1={\n",
    "         'A':['c','D','G'],\n",
    "         'B':['A'],\n",
    "         'C':['A','D','F'],\n",
    "         'D':['A','E','G','H'],\n",
    "         'E':['D','F','H'],\n",
    "         'F':['C','E'],\n",
    "         'G':['A','D','H']}\n",
    "print(\"The adjacency List representing the graph is:\")\n",
    "print(graph1)\n",
    "\n",
    "\n"
   ]
  },
  {
   "cell_type": "code",
   "execution_count": null,
   "id": "5d00e9d5-eae9-4870-970b-c7b7f2ba703e",
   "metadata": {},
   "outputs": [],
   "source": [
    "def dfs(graph,node,visited):\n",
    "    if node not in visited:\n",
    "         visited.append(node)\n",
    "         for k in graph[node]:\n",
    "              dfs(graph,k,visited)\n",
    "    return visited\n",
    "visited=dfs(graph1,'B',[])\n",
    "print(visited)"
   ]
  }
 ],
 "metadata": {
  "kernelspec": {
   "display_name": "Python 3 (ipykernel)",
   "language": "python",
   "name": "python3"
  },
  "language_info": {
   "codemirror_mode": {
    "name": "ipython",
    "version": 3
   },
   "file_extension": ".py",
   "mimetype": "text/x-python",
   "name": "python",
   "nbconvert_exporter": "python",
   "pygments_lexer": "ipython3",
   "version": "3.10.11"
  }
 },
 "nbformat": 4,
 "nbformat_minor": 5
}
